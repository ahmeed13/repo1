{
  "nbformat": 4,
  "nbformat_minor": 0,
  "metadata": {
    "colab": {
      "provenance": [],
      "authorship_tag": "ABX9TyPdYOwfioEu+hQIBjB/wuaF",
      "include_colab_link": true
    },
    "kernelspec": {
      "name": "python3",
      "display_name": "Python 3"
    },
    "language_info": {
      "name": "python"
    }
  },
  "cells": [
    {
      "cell_type": "markdown",
      "metadata": {
        "id": "view-in-github",
        "colab_type": "text"
      },
      "source": [
        "<a href=\"https://colab.research.google.com/github/ahmeed13/repo1/blob/main/Copy_of_Untitled0.ipynb\" target=\"_parent\"><img src=\"https://colab.research.google.com/assets/colab-badge.svg\" alt=\"Open In Colab\"/></a>"
      ]
    },
    {
      "cell_type": "code",
      "execution_count": null,
      "metadata": {
        "colab": {
          "base_uri": "https://localhost:8080/",
          "height": 237
        },
        "id": "htNcQ5plOWbD",
        "outputId": "7913f074-14e3-42ac-8ca4-45b0b7c64d9f"
      },
      "outputs": [
        {
          "output_type": "stream",
          "name": "stdout",
          "text": [
            "Error: File 'custom_dataset.csv' not found. Please check the file path.\n"
          ]
        },
        {
          "output_type": "error",
          "ename": "NameError",
          "evalue": "name 'data' is not defined",
          "traceback": [
            "\u001b[0;31m---------------------------------------------------------------------------\u001b[0m",
            "\u001b[0;31mNameError\u001b[0m                                 Traceback (most recent call last)",
            "\u001b[0;32m<ipython-input-1-4ef99e12b422>\u001b[0m in \u001b[0;36m<cell line: 0>\u001b[0;34m()\u001b[0m\n\u001b[1;32m     16\u001b[0m \u001b[0;34m\u001b[0m\u001b[0m\n\u001b[1;32m     17\u001b[0m \u001b[0;31m# Step 1: Analyze the dataset\u001b[0m\u001b[0;34m\u001b[0m\u001b[0;34m\u001b[0m\u001b[0m\n\u001b[0;32m---> 18\u001b[0;31m \u001b[0mprint\u001b[0m\u001b[0;34m(\u001b[0m\u001b[0mdata\u001b[0m\u001b[0;34m.\u001b[0m\u001b[0minfo\u001b[0m\u001b[0;34m(\u001b[0m\u001b[0;34m)\u001b[0m\u001b[0;34m)\u001b[0m\u001b[0;34m\u001b[0m\u001b[0;34m\u001b[0m\u001b[0m\n\u001b[0m\u001b[1;32m     19\u001b[0m \u001b[0mprint\u001b[0m\u001b[0;34m(\u001b[0m\u001b[0mdata\u001b[0m\u001b[0;34m.\u001b[0m\u001b[0mdescribe\u001b[0m\u001b[0;34m(\u001b[0m\u001b[0;34m)\u001b[0m\u001b[0;34m)\u001b[0m\u001b[0;34m\u001b[0m\u001b[0;34m\u001b[0m\u001b[0m\n\u001b[1;32m     20\u001b[0m \u001b[0mprint\u001b[0m\u001b[0;34m(\u001b[0m\u001b[0mdata\u001b[0m\u001b[0;34m.\u001b[0m\u001b[0misnull\u001b[0m\u001b[0;34m(\u001b[0m\u001b[0;34m)\u001b[0m\u001b[0;34m.\u001b[0m\u001b[0msum\u001b[0m\u001b[0;34m(\u001b[0m\u001b[0;34m)\u001b[0m\u001b[0;34m)\u001b[0m\u001b[0;34m\u001b[0m\u001b[0;34m\u001b[0m\u001b[0m\n",
            "\u001b[0;31mNameError\u001b[0m: name 'data' is not defined"
          ]
        }
      ],
      "source": [
        "# Import necessary libraries\n",
        "import pandas as pd\n",
        "import numpy as np\n",
        "from sklearn.model_selection import train_test_split\n",
        "from sklearn.preprocessing import StandardScaler, OneHotEncoder\n",
        "from sklearn.impute import SimpleImputer\n",
        "from sklearn.neighbors import KNeighborsClassifier\n",
        "from sklearn.metrics import accuracy_score, classification_report\n",
        "\n",
        "# Load the dataset (Ensure the path matches your file location)\n",
        "try:\n",
        "  data = pd.read_csv('custom_dataset.csv')\n",
        "except FileNotFoundError:\n",
        "  print(\"Error: File 'custom_dataset.csv' not found. Please check the file path.\")\n",
        "  exit()\n",
        "\n",
        "# Step 1: Analyze the dataset\n",
        "print(data.info())\n",
        "print(data.describe())\n",
        "print(data.isnull().sum())\n",
        "\n",
        "# Step 2: Preprocessing\n",
        "# Handle missing values (consider different strategies if necessary)\n",
        "imputer = SimpleImputer(strategy='mean')\n",
        "data['numerical_feature'] = imputer.fit_transform(data[['numerical_feature']])\n",
        "\n",
        "# Handle categorical variables (consider other encoding methods if applicable)\n",
        "categorical_features = data.select_dtypes(include=['object'])  # Identify categorical columns\n",
        "encoder = OneHotEncoder(sparse=False)  # Dense encoding for easier manipulation\n",
        "encoded_features = encoder.fit_transform(categorical_features)\n",
        "encoded_df = pd.DataFrame(encoded_features, columns=encoder.get_feature_names_out(categorical_features))\n",
        "data = pd.concat([data.drop(categorical_features, axis=1), encoded_df], axis=1)\n",
        "\n",
        "# Normalization/Standardization\n",
        "scaler = StandardScaler()\n",
        "data[['numerical_feature']] = scaler.fit_transform(data[['numerical_feature']])\n",
        "\n",
        "# Feature selection (explore different feature importance techniques)\n",
        "from sklearn.feature_selection import SelectKBest, chi2  # Example using chi-square test\n",
        "\n",
        "# Analyze feature importance (optional, but recommended)\n",
        "selector = SelectKBest(chi2, k=5)  # Select top 5 features based on chi-square\n",
        "selector.fit(data[selected_features], data['target'])\n",
        "scores = selector.scores_\n",
        "features = data[selected_features].columns\n",
        "for f, s in zip(features, scores):\n",
        "    print(f\"Feature: {f}, Score: {s:.2f}\")\n",
        "\n",
        "# Select features based on importance scores or other criteria\n",
        "selected_features = ['numerical_feature', 'encoded_feature_1', 'encoded_feature_2', 'encoded_feature_3', 'encoded_feature_4']  # Replace with your chosen features\n",
        "\n",
        "X = data[selected_features]\n",
        "y = data['target']\n",
        "\n",
        "# Step 3: Baseline Model (KNN)\n",
        "X_train, X_test, y_train, y_test = train_test_split(X, y, test_size=0.3, random_state=42)\n",
        "\n",
        "knn = KNeighborsClassifier(n_neighbors=5)  # Experiment with different k values\n",
        "knn.fit(X_train, y_train)\n",
        "y_pred = knn.predict(X_test)\n",
        "\n",
        "# Step 4: Compare results\n",
        "print(\"Accuracy with preprocessing:\", accuracy_score(y_test, y_pred))\n",
        "print(classification_report(y_test, y_pred))\n",
        "\n",
        "# Optional: Evaluate with a model without preprocessing (for comparison)\n",
        "# ... (follow the same steps without preprocessing and compare accuracy/report)"
      ]
    }
  ]
}