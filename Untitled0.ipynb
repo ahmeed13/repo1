{
  "nbformat": 4,
  "nbformat_minor": 0,
  "metadata": {
    "colab": {
      "provenance": [],
      "authorship_tag": "ABX9TyMfNh38EPNfjWfaXqgazAUR",
      "include_colab_link": true
    },
    "kernelspec": {
      "name": "python3",
      "display_name": "Python 3"
    },
    "language_info": {
      "name": "python"
    }
  },
  "cells": [
    {
      "cell_type": "markdown",
      "metadata": {
        "id": "view-in-github",
        "colab_type": "text"
      },
      "source": [
        "<a href=\"https://colab.research.google.com/github/ahmeed13/repo1/blob/main/Untitled0.ipynb\" target=\"_parent\"><img src=\"https://colab.research.google.com/assets/colab-badge.svg\" alt=\"Open In Colab\"/></a>"
      ]
    },
    {
      "cell_type": "code",
      "execution_count": 5,
      "metadata": {
        "colab": {
          "base_uri": "https://localhost:8080/",
          "height": 110
        },
        "id": "htNcQ5plOWbD",
        "outputId": "54b21a4b-0061-4e88-a357-d05129b33cff"
      },
      "outputs": [
        {
          "output_type": "error",
          "ename": "SyntaxError",
          "evalue": "invalid decimal literal (<ipython-input-5-1e3c4db09347>, line 2)",
          "traceback": [
            "\u001b[0;36m  File \u001b[0;32m\"<ipython-input-5-1e3c4db09347>\"\u001b[0;36m, line \u001b[0;32m2\u001b[0m\n\u001b[0;31m    <ipython-input-9-9e39bbac8b2d> in <cell line: 0>()\u001b[0m\n\u001b[0m                        ^\u001b[0m\n\u001b[0;31mSyntaxError\u001b[0m\u001b[0;31m:\u001b[0m invalid decimal literal\n"
          ]
        }
      ],
      "source": [
        "le \"<ipython-input-3-096a66352934>\", line 2\n",
        "    <ipython-input-9-9e39bbac8b2d> in <cell line: 0>()\n",
        "                        ^\n",
        "SyntaxError: invalid decimal literal\n"
      ]
    },
    {
      "source": [
        "# Import necessary libraries\n",
        "import pandas as pd\n",
        "import numpy as np\n",
        "from sklearn.model_selection import train_test_split\n",
        "from sklearn.preprocessing import StandardScaler, OneHotEncoder\n",
        "from sklearn.impute import SimpleImputer\n",
        "from sklearn.neighbors import KNeighborsClassifier\n",
        "from sklearn.metrics import accuracy_score, classification_report\n",
        "\n",
        "# إنشاء البيانات يدويًا لتتناسب مع متطلبات المشروع\n",
        "data = pd.DataFrame({\n",
        "    'numerical_feature_1': [1.2, 2.3, 3.4, 4.5, 5.6, 6.7, 7.8, 8.9, 9.0, 10.1, 11.2, 12.3, 13.4, 14.5, 15.6],\n",
        "    'numerical_feature_2': [0.5, 1.5, 2.5, 3.5, 4.5, 5.5, 6.5, 7.5, 8.5, 9.5, 10.5, 11.5, 12.5, 13.5, 14.5],\n",
        "    'categorical_feature': ['A', 'B', 'A', 'B', 'A', 'B', 'A', 'B', 'A', 'B', 'A', 'B', 'A', 'B', 'A'],\n",
        "    'target': [0, 1, 0, 1, 2, 0, 1, 2, 0, 1, 2, 0, 1, 2, 0]  # 3 فئات (0, 1, 2)\n",
        "})\n",
        "\n",
        "# إضافة قيم مفقودة بشكل عشوائي\n",
        "data.iloc[1:3, 0] = np.nan  # إضافة قيم مفقودة للعمود الرقمي الأول\n",
        "data.iloc[5, 2] = np.nan    # إضافة قيم مفقودة للعمود الفئوي\n",
        "\n",
        "# Step 1: Analyze the dataset\n",
        "print(\"Dataset Info:\")\n",
        "print(data.info())\n",
        "print(\"\\nDataset Description:\")\n",
        "print(data.describe())\n",
        "print(\"\\nMissing Values:\")\n",
        "print(data.isnull().sum())\n",
        "\n",
        "# Step 2: Preprocessing\n",
        "# Handling missing values\n",
        "imputer_num = SimpleImputer(strategy='mean')  # تعويض القيم المفقودة الرقمية بالمتوسط\n",
        "data['numerical_feature_1'] = imputer_num.fit_transform(data[['numerical_feature_1']])\n",
        "\n",
        "imputer_cat = SimpleImputer(strategy='most_frequent')  # تعويض القيم المفقودة الفئوية بالقيمة الأكثر تكرارًا\n",
        "data['categorical_feature'] = imputer_cat.fit_transform(data[['categorical_feature']]).ravel()\n",
        "\n",
        "# Encoding categorical variables\n",
        "encoder = OneHotEncoder()\n",
        "encoded_features = encoder.fit_transform(data[['categorical_feature']]).toarray()\n",
        "encoded_df = pd.DataFrame(encoded_features, columns=encoder.get_feature_names_out(['categorical_feature']))\n",
        "data = pd.concat([data, encoded_df], axis=1)\n",
        "data.drop('categorical_feature', axis=1, inplace=True)\n",
        "\n",
        "# Normalization/Standardization\n",
        "scaler = StandardScaler()\n",
        "data[['numerical_feature_1', 'numerical_feature_2']] = scaler.fit_transform(data[['numerical_feature_1', 'numerical_feature_2']])\n",
        "\n",
        "# Feature selection (example: selecting top features)\n",
        "selected_features = ['numerical_feature_1', 'numerical_feature_2', 'categorical_feature_A', 'categorical_feature_B']\n",
        "X = data[selected_features]\n",
        "y = data['target']\n",
        "\n",
        "# Step 3: Baseline Model (KNN)\n",
        "X_train, X_test, y_train, y_test = train_test_split(X, y, test_size=0.3, random_state=42)\n",
        "\n",
        "knn = KNeighborsClassifier(n_neighbors=5)\n",
        "knn.fit(X_train, y_train)\n",
        "y_pred = knn.predict(X_test)\n",
        "\n",
        "# Step 4: Compare results\n",
        "print(\"\\nAccuracy with preprocessing:\", accuracy_score(y_test, y_pred))\n",
        "print(\"\\nClassification Report:\")\n",
        "print(classification_report(y_test, y_pred))"
      ],
      "cell_type": "code",
      "metadata": {
        "colab": {
          "base_uri": "https://localhost:8080/"
        },
        "id": "RCUjm0gJW1qx",
        "outputId": "cd7e4db0-567c-4d96-fe84-960630050554"
      },
      "execution_count": 4,
      "outputs": [
        {
          "output_type": "stream",
          "name": "stdout",
          "text": [
            "Dataset Info:\n",
            "<class 'pandas.core.frame.DataFrame'>\n",
            "RangeIndex: 15 entries, 0 to 14\n",
            "Data columns (total 4 columns):\n",
            " #   Column               Non-Null Count  Dtype  \n",
            "---  ------               --------------  -----  \n",
            " 0   numerical_feature_1  13 non-null     float64\n",
            " 1   numerical_feature_2  15 non-null     float64\n",
            " 2   categorical_feature  14 non-null     object \n",
            " 3   target               15 non-null     int64  \n",
            "dtypes: float64(2), int64(1), object(1)\n",
            "memory usage: 612.0+ bytes\n",
            "None\n",
            "\n",
            "Dataset Description:\n",
            "       numerical_feature_1  numerical_feature_2     target\n",
            "count            13.000000            15.000000  15.000000\n",
            "mean              9.292308             7.500000   0.866667\n",
            "std               4.167226             4.472136   0.833809\n",
            "min               1.200000             0.500000   0.000000\n",
            "25%               6.700000             4.000000   0.000000\n",
            "50%               9.000000             7.500000   1.000000\n",
            "75%              12.300000            11.000000   1.500000\n",
            "max              15.600000            14.500000   2.000000\n",
            "\n",
            "Missing Values:\n",
            "numerical_feature_1    2\n",
            "numerical_feature_2    0\n",
            "categorical_feature    1\n",
            "target                 0\n",
            "dtype: int64\n",
            "\n",
            "Accuracy with preprocessing: 0.6\n",
            "\n",
            "Classification Report:\n",
            "              precision    recall  f1-score   support\n",
            "\n",
            "           0       0.67      0.67      0.67         3\n",
            "           1       0.50      1.00      0.67         1\n",
            "           2       0.00      0.00      0.00         1\n",
            "\n",
            "    accuracy                           0.60         5\n",
            "   macro avg       0.39      0.56      0.44         5\n",
            "weighted avg       0.50      0.60      0.53         5\n",
            "\n"
          ]
        },
        {
          "output_type": "stream",
          "name": "stderr",
          "text": [
            "/usr/local/lib/python3.11/dist-packages/sklearn/metrics/_classification.py:1565: UndefinedMetricWarning: Precision is ill-defined and being set to 0.0 in labels with no predicted samples. Use `zero_division` parameter to control this behavior.\n",
            "  _warn_prf(average, modifier, f\"{metric.capitalize()} is\", len(result))\n",
            "/usr/local/lib/python3.11/dist-packages/sklearn/metrics/_classification.py:1565: UndefinedMetricWarning: Precision is ill-defined and being set to 0.0 in labels with no predicted samples. Use `zero_division` parameter to control this behavior.\n",
            "  _warn_prf(average, modifier, f\"{metric.capitalize()} is\", len(result))\n",
            "/usr/local/lib/python3.11/dist-packages/sklearn/metrics/_classification.py:1565: UndefinedMetricWarning: Precision is ill-defined and being set to 0.0 in labels with no predicted samples. Use `zero_division` parameter to control this behavior.\n",
            "  _warn_prf(average, modifier, f\"{metric.capitalize()} is\", len(result))\n"
          ]
        }
      ]
    }
  ]
}